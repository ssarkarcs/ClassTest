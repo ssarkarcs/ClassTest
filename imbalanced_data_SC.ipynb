{
  "cells": [
    {
      "cell_type": "markdown",
      "metadata": {
        "id": "view-in-github",
        "colab_type": "text"
      },
      "source": [
        "<a href=\"https://colab.research.google.com/github/ssarkarcs/classTest/blob/main/imbalanced_data_SC.ipynb\" target=\"_parent\"><img src=\"https://colab.research.google.com/assets/colab-badge.svg\" alt=\"Open In Colab\"/></a>"
      ]
    },
    {
      "cell_type": "markdown",
      "metadata": {
        "id": "Mhyv-sHy2qvR"
      },
      "source": [
        "# Imbalanced data\n",
        "\n",
        "Imbalanced data refers to a situation in classification problems where the classes are not represented equally in the dataset.\n",
        "\n",
        "One class (the majority class) has significantly more instances than one or more other classes (the minority class or classes).\n",
        "\n",
        "\n",
        "Imbalanced datasets are common in various real-world scenarios, such as fraud detection, medical diagnosis, anomaly detection, and text classification.\n",
        "\n",
        "### Problems with Imbalanced Datasets:\n",
        "\n",
        "* **Biased Model Performance**: Models trained on imbalanced data tend to be biased towards the majority class, as they tend to focus more on the majority class during training, resulting in poor generalization to the minority class.\n",
        "\n",
        "* **Misleading Evaluation Metrics**: Traditional evaluation metrics like **accuracy** can be misleading on imbalanced datasets. A model may achieve high accuracy by simply predicting the majority class most of the time, while completely ignoring the minority class."
      ]
    },
    {
      "cell_type": "code",
      "source": [
        "from google.colab import drive\n",
        "drive.mount('/content/drive')"
      ],
      "metadata": {
        "colab": {
          "base_uri": "https://localhost:8080/"
        },
        "id": "ShMtM4Ma2tMO",
        "outputId": "a1ba0717-e01c-4390-abd9-c0021b58ec91"
      },
      "execution_count": null,
      "outputs": [
        {
          "output_type": "stream",
          "name": "stdout",
          "text": [
            "Mounted at /content/drive\n"
          ]
        }
      ]
    },
    {
      "cell_type": "markdown",
      "metadata": {
        "id": "QMNN1dFs2qvX"
      },
      "source": [
        "### SKlearn toy datasets\n"
      ]
    },
    {
      "cell_type": "code",
      "execution_count": 3,
      "metadata": {
        "id": "LYgCX8Ab2qvZ"
      },
      "outputs": [],
      "source": [
        "from sklearn.datasets import load_iris\n",
        "import pandas as pd"
      ]
    },
    {
      "cell_type": "code",
      "source": [
        "# load iris data\n",
        "iris = load_iris()\n",
        "X=iris.data # feature\n",
        "y=iris.target # target"
      ],
      "metadata": {
        "id": "BVkS9lN_-Y6v"
      },
      "execution_count": 5,
      "outputs": []
    },
    {
      "cell_type": "code",
      "source": [
        "type(y)"
      ],
      "metadata": {
        "colab": {
          "base_uri": "https://localhost:8080/"
        },
        "id": "9xCvNukW-7s6",
        "outputId": "95cbe165-64cf-41d3-a222-cf2ece672d09"
      },
      "execution_count": 6,
      "outputs": [
        {
          "output_type": "execute_result",
          "data": {
            "text/plain": [
              "numpy.ndarray"
            ]
          },
          "metadata": {},
          "execution_count": 6
        }
      ]
    },
    {
      "cell_type": "code",
      "source": [
        "# check the class distribution\n",
        "print(pd.Series(y).value_counts())"
      ],
      "metadata": {
        "colab": {
          "base_uri": "https://localhost:8080/"
        },
        "id": "YNi5Ag3e-1UJ",
        "outputId": "ccf14dc0-798b-40e1-8824-d6d5dae24dbf"
      },
      "execution_count": 7,
      "outputs": [
        {
          "output_type": "stream",
          "name": "stdout",
          "text": [
            "0    50\n",
            "1    50\n",
            "2    50\n",
            "Name: count, dtype: int64\n"
          ]
        }
      ]
    },
    {
      "cell_type": "markdown",
      "metadata": {
        "id": "ycnYGUt02qva"
      },
      "source": [
        "## Solutions to Imbalanced Data Problems:\n",
        "\n",
        "### **1. Resampling Techniques**:"
      ]
    },
    {
      "cell_type": "code",
      "source": [],
      "metadata": {
        "id": "2ykoQNNe-0Hn"
      },
      "execution_count": null,
      "outputs": []
    },
    {
      "cell_type": "markdown",
      "metadata": {
        "id": "4ZDuLW8D2qvb"
      },
      "source": [
        "## 1.1 Under-Sampling\n",
        "\n",
        "Reduce the number of instances in the majority class by randomly removing instances.\n"
      ]
    },
    {
      "cell_type": "code",
      "execution_count": 10,
      "metadata": {
        "id": "-8i0amQC2qvb",
        "colab": {
          "base_uri": "https://localhost:8080/"
        },
        "outputId": "bb44c161-d7f7-4ed7-eaaf-7171822db646"
      },
      "outputs": [
        {
          "output_type": "stream",
          "name": "stdout",
          "text": [
            "1    357\n",
            "0    212\n",
            "Name: count, dtype: int64\n"
          ]
        }
      ],
      "source": [
        "from sklearn.datasets import load_breast_cancer\n",
        "from imblearn.under_sampling import RandomUnderSampler\n",
        "import pandas as pd\n",
        "breast_cancer=load_breast_cancer()\n",
        "X=breast_cancer.data\n",
        "y=breast_cancer.target\n",
        "print(pd.Series(y).value_counts())"
      ]
    },
    {
      "cell_type": "code",
      "source": [
        "rus=RandomUnderSampler(random_state=42)\n",
        "X_resampled,y_resampled=rus.fit_resample(X,y)\n",
        "print(pd.Series(y_resampled).value_counts())"
      ],
      "metadata": {
        "colab": {
          "base_uri": "https://localhost:8080/"
        },
        "id": "TPmIW6JSAJ-N",
        "outputId": "d4519b63-ebc3-461c-fcea-4fafb6ff29e3"
      },
      "execution_count": 11,
      "outputs": [
        {
          "output_type": "stream",
          "name": "stdout",
          "text": [
            "0    212\n",
            "1    212\n",
            "Name: count, dtype: int64\n"
          ]
        }
      ]
    },
    {
      "cell_type": "code",
      "execution_count": null,
      "metadata": {
        "id": "nc9xnYUs2qvc"
      },
      "outputs": [],
      "source": []
    },
    {
      "cell_type": "markdown",
      "metadata": {
        "id": "RuCDFYxa2qvc"
      },
      "source": [
        "**Advantages**:\n",
        "* Reduces computation time and memory usage.\n",
        "* Helps balance class distribution, potentially improving model performance.\n",
        "\n",
        "**Disadvantages**:\n",
        "* May discard potentially useful information from majority class.\n",
        "* Risk of underfitting if important samples are removed."
      ]
    },
    {
      "cell_type": "markdown",
      "metadata": {
        "id": "4CI8nELI2qvd"
      },
      "source": [
        "## 1.2. Over-Sampling\n",
        "\n",
        "Increase the number of instances in the minority class by duplicating existing instances or generating synthetic samples.\n"
      ]
    },
    {
      "cell_type": "code",
      "execution_count": 13,
      "metadata": {
        "id": "BIkG71Pd2qvd",
        "colab": {
          "base_uri": "https://localhost:8080/"
        },
        "outputId": "0a446f6f-7104-4953-c760-1adf488de73a"
      },
      "outputs": [
        {
          "output_type": "stream",
          "name": "stdout",
          "text": [
            "0    357\n",
            "1    357\n",
            "Name: count, dtype: int64\n"
          ]
        }
      ],
      "source": [
        "from imblearn.over_sampling import RandomOverSampler\n",
        "ros=RandomOverSampler(random_state=42)\n",
        "X_resampled1,y_resampled1=ros.fit_resample(X,y)\n",
        "print(pd.Series(y_resampled1).value_counts())"
      ]
    },
    {
      "cell_type": "code",
      "execution_count": null,
      "metadata": {
        "id": "wsRqfnuE2qve"
      },
      "outputs": [],
      "source": []
    },
    {
      "cell_type": "markdown",
      "metadata": {
        "id": "rwAgS7js2qve"
      },
      "source": [
        "**Advantages**:\n",
        "* Increases representation of minority class, preventing bias towards majority class.\n",
        "* Can improve model performance.\n",
        "\n",
        "**Disadvantages**:\n",
        "* May lead to overfitting if synthetic samples are not well-generated.\n",
        "* Can increase computation time and memory usage."
      ]
    },
    {
      "cell_type": "markdown",
      "metadata": {
        "id": "hzeJcQil2qvf"
      },
      "source": [
        "## 1.3. Synthetic Over-Sampling Technique: SMOTE\n",
        "\n",
        "Generate synthetic samples for the minority class by interpolating between existing instances."
      ]
    },
    {
      "cell_type": "markdown",
      "metadata": {
        "id": "TFScYaIr2qvf"
      },
      "source": []
    },
    {
      "cell_type": "code",
      "execution_count": 15,
      "metadata": {
        "id": "j65MikV72qvg",
        "colab": {
          "base_uri": "https://localhost:8080/",
          "height": 147
        },
        "outputId": "e475cd91-87d4-4799-be74-d5d6ff0954d5"
      },
      "outputs": [
        {
          "output_type": "execute_result",
          "data": {
            "text/plain": [
              "0    357\n",
              "1    357\n",
              "Name: count, dtype: int64"
            ],
            "text/html": [
              "<div>\n",
              "<style scoped>\n",
              "    .dataframe tbody tr th:only-of-type {\n",
              "        vertical-align: middle;\n",
              "    }\n",
              "\n",
              "    .dataframe tbody tr th {\n",
              "        vertical-align: top;\n",
              "    }\n",
              "\n",
              "    .dataframe thead th {\n",
              "        text-align: right;\n",
              "    }\n",
              "</style>\n",
              "<table border=\"1\" class=\"dataframe\">\n",
              "  <thead>\n",
              "    <tr style=\"text-align: right;\">\n",
              "      <th></th>\n",
              "      <th>count</th>\n",
              "    </tr>\n",
              "  </thead>\n",
              "  <tbody>\n",
              "    <tr>\n",
              "      <th>0</th>\n",
              "      <td>357</td>\n",
              "    </tr>\n",
              "    <tr>\n",
              "      <th>1</th>\n",
              "      <td>357</td>\n",
              "    </tr>\n",
              "  </tbody>\n",
              "</table>\n",
              "</div><br><label><b>dtype:</b> int64</label>"
            ]
          },
          "metadata": {},
          "execution_count": 15
        }
      ],
      "source": [
        "from imblearn.over_sampling import SMOTE\n",
        "smote=SMOTE(random_state=42)\n",
        "X_resampled2,y_resampled2=smote.fit_resample(X,y)\n",
        "pd.Series(y_resampled2).value_counts()"
      ]
    },
    {
      "cell_type": "markdown",
      "metadata": {
        "id": "pj_YwnTJ2qvg"
      },
      "source": [
        "**Advantages**:\n",
        "* Generates synthetic samples, preserving minority class distribution.\n",
        "* Addresses imbalanced data without discarding information.\n",
        "\n",
        "**Disadvantages**:\n",
        "* Can introduce noise if synthetic samples are poorly generated.\n",
        "* May not work well with high-dimensional data.\n",
        "* Sensitive towards outliers."
      ]
    },
    {
      "cell_type": "markdown",
      "metadata": {
        "id": "X_nWvJ1t2qvg"
      },
      "source": [
        "**Model Selection:**\n",
        "\n",
        "Choose models that are robust to class imbalance, such as linear regression, logistic regression, decision trees, random forests, support vector machines with appropriate kernels, or anomaly detection algorithms."
      ]
    },
    {
      "cell_type": "markdown",
      "metadata": {
        "id": "6aYzfzBa2qvg"
      },
      "source": [
        "## 2. Data-Level Techniques:\n",
        "\n",
        "* **Collect More Data:** Gather additional data for the minority class to balance the dataset.\n",
        "* **Domain Knowledge:** Incorporate domain knowledge to better understand the importance of different classes and guide the selection of appropriate techniques for handling imbalance.\n"
      ]
    },
    {
      "cell_type": "code",
      "execution_count": null,
      "metadata": {
        "id": "bavwCWfM2qvg"
      },
      "outputs": [],
      "source": []
    }
  ],
  "metadata": {
    "kaggle": {
      "accelerator": "none",
      "dataSources": [],
      "dockerImageVersionId": 30698,
      "isGpuEnabled": false,
      "isInternetEnabled": false,
      "language": "python",
      "sourceType": "notebook"
    },
    "kernelspec": {
      "display_name": "Python 3 (ipykernel)",
      "language": "python",
      "name": "python3"
    },
    "language_info": {
      "codemirror_mode": {
        "name": "ipython",
        "version": 3
      },
      "file_extension": ".py",
      "mimetype": "text/x-python",
      "name": "python",
      "nbconvert_exporter": "python",
      "pygments_lexer": "ipython3",
      "version": "3.12.4"
    },
    "colab": {
      "provenance": [],
      "include_colab_link": true
    }
  },
  "nbformat": 4,
  "nbformat_minor": 0
}